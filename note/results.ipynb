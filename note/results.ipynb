{
 "cells": [
  {
   "cell_type": "markdown",
   "source": [
    "原`GPT-2`的`train_loss`(train_loss包含了src部分, 理论上不大合理):\n",
    "\n",
    "```\n",
    "loss\n",
    "0.2555042438599689\n",
    "0.2340384309295598\n",
    "0.22057417171462623\n",
    "0.2142762083035632\n",
    "0.21409916075850238\n",
    "0.21409965588787302\n",
    "0.21412247039533336\n",
    "0.21409885988420355\n",
    "0.214091580171863\n",
    "0.21409815870264426\n",
    "0.21411768657715102\n",
    "0.21408333282927655\n",
    "0.21407911489618786\n",
    "0.21404941232419225\n",
    "0.2140740336303922\n",
    "0.2140588059539666\n",
    "0.21410714981894519\n",
    "0.21405966150429118\n",
    "0.21410097883463683\n",
    "0.21411081994417067\n",
    "0.2140800790784854\n",
    "```"
   ],
   "metadata": {}
  },
  {
   "cell_type": "markdown",
   "source": [
    "现`GPT-2`(`train_loss`不包含`src`):\n",
    "\n",
    "```\n",
    "loss\n",
    "0.3x\n",
    "0.2x\n",
    ".\n",
    ".\n",
    ".\n",
    "0.22828938278337127\n",
    "0.20768840991506052\n",
    "0.19117533817453286\n",
    "0.18098664673095982\n",
    "0.17905962330412298\n",
    "0.17902729180137267\n",
    "0.17896525419927875\n",
    "```"
   ],
   "metadata": {}
  },
  {
   "cell_type": "markdown",
   "source": [
    "### 使用GPT-2生成的Bleu和Rouge分数\n",
    "### 相关参数\n",
    "- epoch_num: 23\n",
    "- eval_mode: test"
   ],
   "metadata": {}
  },
  {
   "cell_type": "code",
   "execution_count": null,
   "source": [
    "import sys\n",
    "sys.path.append('../')\n",
    "\n",
    "from CC.analysis import Analysis\n",
    "\n",
    "bleu_scores = Analysis.compute_bleu_from_txt('../log/entdesc/gpt2_23_pure/predict_gold.csv')\n",
    "rouge_scores = Analysis.compute_rouge_from_txt('../log/entdesc/gpt2_23_pure/predict_gold.csv')\n",
    "\n",
    "print(bleu_scores, rouge_scores)"
   ],
   "outputs": [
    {
     "output_type": "stream",
     "name": "stdout",
     "text": [
      "[0.36576556422587375, 0.29391336947956814, 0.2476776375995645, 0.21474814226462868] 0.3970000181181639\n"
     ]
    }
   ],
   "metadata": {}
  },
  {
   "cell_type": "code",
   "execution_count": 1,
   "source": [
    "import sys\n",
    "sys.path.append('../')\n",
    "\n",
    "from CC.analysis import Analysis\n",
    "\n",
    "bleu_scores = Analysis.compute_bleu_from_txt('../log/entdesc/gpt2_12/predict_gold.csv')\n",
    "rouge_scores = Analysis.compute_rouge_from_txt('../log/entdesc/gpt2_12/predict_gold.csv')\n",
    "\n",
    "print(bleu_scores, rouge_scores)"
   ],
   "outputs": [
    {
     "output_type": "stream",
     "name": "stdout",
     "text": [
      "[0.45029911567740644, 0.3505131901495858, 0.28675088524791076, 0.24181316836790667] 0.4666104480900476\n"
     ]
    }
   ],
   "metadata": {}
  },
  {
   "cell_type": "markdown",
   "source": [
    "System 1和System 2的train_loss\n",
    "```\n",
    "epoch   gpt_loss\tgcn_loss    node_pred_acc\n",
    "24  1.9309712800593906\t2.1935632829999703\t0.4152032112393377\n",
    "25  1.865518212059863\t2.1817877799316148\t0.41651214031719713\n",
    "26  1.9038604129833245\t1.965378033303306\t0.46738585047666836\n",
    "27  1.8567351815736408\t1.926517135485094\t0.4741050197430136\n",
    "28  1.8566638345732274\t1.9256115123097564\t0.4742304587796418\n",
    "29  1.8566630567339297\t1.926468465415851\t0.47476493815310106\n",
    "30  1.8566804381552728\t1.9259222983915114\t0.47469403782805036\n",
    "31  1.8564783578140267\t1.9260595450968905\t0.47435589781626997\n",
    "```"
   ],
   "metadata": {}
  },
  {
   "cell_type": "markdown",
   "source": [
    "使用正确标记训练结果\n",
    "\n",
    "```\n",
    "gpt_loss\tgcn_loss\tnode_pred_acc\n",
    "1.9300237601433547\t1.7617739028199666\t0.45224549291238936\n",
    "1.8677569844613477\t1.7481290560123517\t0.457019531183792\n",
    "1.8676636336664307\t1.7485512533378893\t0.4573472166509415\n",
    "```\n",
    "\n",
    "目前24-30是正确的, 31是之前未对齐标记的"
   ],
   "metadata": {}
  },
  {
   "cell_type": "markdown",
   "source": [
    "v6 both模式训练结果\n",
    "\n",
    "```\n",
    "gpt_loss\tgcn_loss\tnode_pred_acc\tnode_pred_recall\tnode_pred_f1\n",
    "1.4274260690572182\t0.40578717659653196\t0.7259733473970007\t0.5399586678305212\t0.6192996098143494\n",
    "1.3760182144088764\t0.39828755356374806\t0.7297717729565648\t0.5486445978224944\t0.6263770552812474\n",
    "1.375989925561967\t0.39827090246322266\t0.729296962060556\t0.548677891163463\t0.626223776102992\n",
    "1.375937069971065\t0.3983630447230598\t0.7298509687634719\t0.5482844244065613\t0.6261714063305286\n",
    "```"
   ],
   "metadata": {}
  },
  {
   "cell_type": "markdown",
   "source": [
    "```\n",
    "gpt_loss\tgcn_loss\tnode_pred_acc\tnode_pred_recall\tnode_pred_f1\n",
    "1.0224591164806875\t0.289561745624888\t0.8526346547190027\t0.8759789077999374\t0.8641491537353887\n",
    "0.8533295193602153\t0.25860648849219026\t0.8701137524010826\t0.8835665309247851\t0.8767885423914678\n",
    "0.8533400342198645\t0.25879689776523995\t0.8700364258410714\t0.8836419430812247\t0.8767864067960264\n",
    "0.8532789767872019\t0.2586506069504279\t0.8700260630511621\t0.8835027206385669\t0.8767126047566178\n",
    "0.8533343001194168\t0.258487739679401\t0.8702008227161058\t0.8835476778856751\t0.8768234623621249\n",
    "0.8534980363893407\t0.2585199181081062\t0.869974195335739\t0.8834954694696785\t0.8766827000910199\n",
    "0.8533674059554662\t0.2586261838783456\t0.8699743614633951\t0.8838072697318807\t0.8768362622405492\n",
    "0.8528197428163572\t0.2583626784489576\t0.870074799793833\t0.8837768148225494\t0.8768722836194474\n",
    "```"
   ],
   "metadata": {}
  },
  {
   "cell_type": "markdown",
   "source": [
    "### 使用CogNLG生成的Bleu和Rouge分数\n",
    "### 相关参数\n",
    "- epoch_num: 23 + 3\n",
    "- eval_mode: test"
   ],
   "metadata": {}
  },
  {
   "cell_type": "code",
   "execution_count": 2,
   "source": [
    "import sys\n",
    "sys.path.append('../')\n",
    "\n",
    "from CC.analysis import Analysis\n",
    "\n",
    "bleu_scores = Analysis.compute_bleu_from_txt('../log/entdesc_cognlg/gpt2_19/predict_gold.csv')\n",
    "rouge_scores = Analysis.compute_rouge_from_txt('../log/entdesc_cognlg/gpt2_19/predict_gold.csv')\n",
    "nltk_bleu_scores = Analysis.compute_nltk_bleu_from_txt('../log/entdesc_cognlg/gpt2_19/predict_gold.csv')\n",
    "\n",
    "print(bleu_scores, rouge_scores, nltk_bleu_scores)"
   ],
   "outputs": [
    {
     "output_type": "stream",
     "name": "stdout",
     "text": [
      "[0.5718272398179495, 0.47531253093437514, 0.40999264885635717, 0.36136950763380854] 0.586178700096149 0.7158349919589377\n"
     ]
    }
   ],
   "metadata": {}
  },
  {
   "cell_type": "code",
   "execution_count": 3,
   "source": [
    "import sys\n",
    "sys.path.append('../')\n",
    "\n",
    "from CC.analysis import Analysis\n",
    "\n",
    "bleu_scores = Analysis.compute_bleu_from_txt('../log/entdesc_cognlg/gpt2_sys1/predict_gold.csv')\n",
    "rouge_scores = Analysis.compute_rouge_from_txt('../log/entdesc_cognlg/gpt2_sys1/predict_gold.csv')\n",
    "\n",
    "print(bleu_scores, rouge_scores)"
   ],
   "outputs": [
    {
     "output_type": "stream",
     "name": "stdout",
     "text": [
      "[0.5766889138335594, 0.4806542166856242, 0.4157584148195968, 0.367537520100951] 0.5925519214557015\n"
     ]
    }
   ],
   "metadata": {}
  },
  {
   "cell_type": "code",
   "execution_count": 4,
   "source": [
    "import sys\n",
    "sys.path.append('../')\n",
    "\n",
    "from CC.analysis import Analysis\n",
    "\n",
    "bleu_scores = Analysis.compute_bleu_from_txt('../log/entdesc_cognlg/gpt2_19/predict_gold.csv')\n",
    "rouge_scores = Analysis.compute_rouge_from_txt('../log/entdesc_cognlg/gpt2_19/predict_gold.csv')\n",
    "\n",
    "print(bleu_scores, rouge_scores)"
   ],
   "outputs": [
    {
     "output_type": "stream",
     "name": "stdout",
     "text": [
      "[0.5718272398179495, 0.47531253093437514, 0.40999264885635717, 0.36136950763380854] 0.586178700096149\n"
     ]
    }
   ],
   "metadata": {}
  },
  {
   "cell_type": "code",
   "execution_count": 1,
   "source": [
    "import sys\n",
    "sys.path.append('../')\n",
    "\n",
    "from CC.analysis import Analysis\n",
    "\n",
    "bleu_scores = Analysis.compute_bleu_from_txt('../log/entdesc_cognlg_test/gpt2_17/predict_gold.csv')\n",
    "rouge_scores = Analysis.compute_rouge_from_txt('../log/entdesc_cognlg_test/gpt2_17/predict_gold.csv')\n",
    "\n",
    "print(bleu_scores, rouge_scores)"
   ],
   "outputs": [
    {
     "output_type": "stream",
     "name": "stdout",
     "text": [
      "[0.5667954264082307, 0.4695504500819083, 0.4039913957904073, 0.3553263272606696] 0.5844202405055646\n"
     ]
    }
   ],
   "metadata": {}
  },
  {
   "cell_type": "markdown",
   "source": [
    "### 总结\n",
    "从目前的实验结果来看:\n",
    "1. 相比起`GPT-2`直接生成的文本, `CogNLG`生成的文本质量上有明显改善.\n",
    "2. 目前的`CogNLG`还没有解决事实逻辑错误的问题.\n",
    "3. `CogNLG`使得原`GPT-2`的loss有明显下降."
   ],
   "metadata": {}
  },
  {
   "cell_type": "markdown",
   "source": [
    "### 困难\n",
    "- 模型训练速度慢，Loss下降存在问题，GCN训练集部分预测准确度为37%\n",
    "- 节点预测是否准确？(输出多节点提高预测准确度)\n",
    "- 如果准确，提高GPT部分生成内容的准确度"
   ],
   "metadata": {}
  },
  {
   "cell_type": "markdown",
   "source": [
    "### Next\n",
    "1. 排除节点预测导致的模型效果问题. 给定Gold Node之后`GPT-2`生成质量是否提高.\n",
    "2. 如果生成质量显著提高, 重新训练模型, 给定`Gold Node`只训练`Sys1`. 然后固定`Sys1`只训练`Sys2`.\n",
    "3. 如果生成质量没有提高, 改进`Sys2`或在数据工程上继续增强."
   ],
   "metadata": {}
  },
  {
   "cell_type": "code",
   "execution_count": 1,
   "source": [
    "import os\n",
    "import sys\n",
    "sys.path.append('../')\n",
    "os.chdir(os.path.abspath('..'))\n",
    "\n",
    "from CC.analysis import Analysis"
   ],
   "outputs": [],
   "metadata": {}
  },
  {
   "cell_type": "code",
   "execution_count": 2,
   "source": [
    "\n",
    "\n",
    "print(Analysis.get_entity_info_from_sql('John Louis'))"
   ],
   "outputs": [
    {
     "output_type": "stream",
     "name": "stdout",
     "text": [
      "['156983', 'John Louis Emil Dreyer', 'John Louis Emil Dreyer (13 February 1852\\xa0– 14 September 1926) was a Danish/British astronomer.[1][2][3][4]\\nDreyer was born in Copenhagen. His father, Lieutenant General John Christopher Dreyer,[5] was the Danish Minister for War and the Navy. When he was 14 he became interested in astronomy and regularly visited Hans Schjellerup at the Copenhagen observatory.[4] He was educated in Copenhagen but in 1874, at the age of 22, he went to Parsonstown, Ireland. There he worked as the assistant of Lord Rosse (the son and successor of the Lord Rosse who built the Leviathan of Parsonstown telescope).\\nDuring 1878 he moved to Dunsink, the site of the Trinity College Observatory of Dublin University to work for Robert Stawell Ball. In 1882 he relocated again, this time to Armagh Observatory, where he served as Director until his retirement in 1916. In 1885 he became a British citizen. In 1916 he and his wife Kate moved to Oxford where Dreyer worked on editing the works of Tycho Brahe.\\n', 'astronomer;Copenhagen;Hans Schjellerup;Parsonstown;Ireland;Lord Rosse;Lord Rosse;Leviathan of Parsonstown;Dunsink;Robert Stawell Ball;Armagh Observatory;Oxford;Tycho Brahe', 'init', '0']\n"
     ]
    }
   ],
   "metadata": {}
  },
  {
   "cell_type": "code",
   "execution_count": 55,
   "source": [
    "import sys\n",
    "sys.path.append('../')\n",
    "import json\n",
    "import numpy as np\n",
    "import matplotlib.pyplot as plt\n",
    "\n",
    "plt.style.use('seaborn-white')\n",
    "\n",
    "with open('/home/lpc/repos/NLGx/CogNLGv6/log/entdesc_cognlg/gpt2_sys1/bleu_dis.json') as f:\n",
    "    ori_list = f.read().split('\\n')\n",
    "if ori_list[-1] == '':\n",
    "    ori_list = ori_list[:-1]\n",
    "data = [json.loads(item) for item in ori_list]\n",
    "\n",
    "with open('/home/lpc/repos/NLGx/CogNLGv6/log/entdesc_cognlg/gpt2_sys1/rouge_dis.json') as f:\n",
    "    ori_list = f.read().split('\\n')\n",
    "if ori_list[-1] == '':\n",
    "    ori_list = ori_list[:-1]\n",
    "rouge = [json.loads(item) for item in ori_list]\n",
    "\n",
    "# 蓝色\n",
    "# plt.hist([item[0] for item in data], bins=40, alpha=0.6, color='#A6C9E8')\n",
    "# 橙色\n",
    "# plt.hist([item[1] for item in data], bins=40, alpha=0.6, color='#FFC000')\n",
    "# 绿色\n",
    "# plt.hist([item[2] for item in data], bins=40, alpha=0.6, color='#44B6A3')\n",
    "# 粉色\n",
    "plt.hist([item[3] for item in data], bins=40, alpha=0.6, color='#DF456D')\n",
    "plt.hist([item for item in rouge], bins=40, alpha=0.6, color='#FFC000')"
   ],
   "outputs": [
    {
     "output_type": "execute_result",
     "data": {
      "text/plain": [
       "(array([7.000e+00, 0.000e+00, 2.000e+00, 1.000e+00, 2.000e+00, 3.000e+00,\n",
       "        6.000e+00, 2.000e+00, 5.000e+00, 5.000e+00, 9.000e+00, 8.000e+00,\n",
       "        1.300e+01, 1.900e+01, 3.100e+01, 2.700e+01, 4.300e+01, 4.600e+01,\n",
       "        6.000e+01, 9.200e+01, 1.110e+02, 1.340e+02, 1.420e+02, 1.690e+02,\n",
       "        1.980e+02, 2.200e+02, 2.260e+02, 2.450e+02, 2.610e+02, 2.300e+02,\n",
       "        2.590e+02, 2.530e+02, 2.860e+02, 2.820e+02, 2.730e+02, 2.670e+02,\n",
       "        2.530e+02, 2.530e+02, 2.650e+02, 2.040e+02, 2.260e+02, 2.180e+02,\n",
       "        2.140e+02, 1.940e+02, 1.700e+02, 1.770e+02, 1.550e+02, 1.610e+02,\n",
       "        1.500e+02, 1.520e+02, 1.460e+02, 1.250e+02, 1.170e+02, 1.390e+02,\n",
       "        1.140e+02, 1.010e+02, 1.170e+02, 1.330e+02, 1.270e+02, 9.200e+01,\n",
       "        8.900e+01, 1.060e+02, 9.400e+01, 8.800e+01, 7.900e+01, 9.700e+01,\n",
       "        8.500e+01, 9.000e+01, 9.100e+01, 8.100e+01, 1.140e+02, 1.150e+02,\n",
       "        1.240e+02, 1.310e+02, 1.930e+02, 1.380e+02, 6.900e+01, 5.800e+01,\n",
       "        1.100e+01, 1.288e+03]),\n",
       " array([0.    , 0.0125, 0.025 , 0.0375, 0.05  , 0.0625, 0.075 , 0.0875,\n",
       "        0.1   , 0.1125, 0.125 , 0.1375, 0.15  , 0.1625, 0.175 , 0.1875,\n",
       "        0.2   , 0.2125, 0.225 , 0.2375, 0.25  , 0.2625, 0.275 , 0.2875,\n",
       "        0.3   , 0.3125, 0.325 , 0.3375, 0.35  , 0.3625, 0.375 , 0.3875,\n",
       "        0.4   , 0.4125, 0.425 , 0.4375, 0.45  , 0.4625, 0.475 , 0.4875,\n",
       "        0.5   , 0.5125, 0.525 , 0.5375, 0.55  , 0.5625, 0.575 , 0.5875,\n",
       "        0.6   , 0.6125, 0.625 , 0.6375, 0.65  , 0.6625, 0.675 , 0.6875,\n",
       "        0.7   , 0.7125, 0.725 , 0.7375, 0.75  , 0.7625, 0.775 , 0.7875,\n",
       "        0.8   , 0.8125, 0.825 , 0.8375, 0.85  , 0.8625, 0.875 , 0.8875,\n",
       "        0.9   , 0.9125, 0.925 , 0.9375, 0.95  , 0.9625, 0.975 , 0.9875,\n",
       "        1.    ]),\n",
       " <BarContainer object of 80 artists>)"
      ]
     },
     "metadata": {},
     "execution_count": 55
    },
    {
     "output_type": "display_data",
     "data": {
      "text/plain": [
       "<Figure size 432x288 with 1 Axes>"
      ],
      "image/svg+xml": "<?xml version=\"1.0\" encoding=\"utf-8\" standalone=\"no\"?>\n<!DOCTYPE svg PUBLIC \"-//W3C//DTD SVG 1.1//EN\"\n  \"http://www.w3.org/Graphics/SVG/1.1/DTD/svg11.dtd\">\n<svg height=\"244.661875pt\" version=\"1.1\" viewBox=\"0 0 374.94375 244.661875\" width=\"374.94375pt\" xmlns=\"http://www.w3.org/2000/svg\" xmlns:xlink=\"http://www.w3.org/1999/xlink\">\n <metadata>\n  <rdf:RDF xmlns:cc=\"http://creativecommons.org/ns#\" xmlns:dc=\"http://purl.org/dc/elements/1.1/\" xmlns:rdf=\"http://www.w3.org/1999/02/22-rdf-syntax-ns#\">\n   <cc:Work>\n    <dc:type rdf:resource=\"http://purl.org/dc/dcmitype/StillImage\"/>\n    <dc:date>2021-08-29T18:06:42.071082</dc:date>\n    <dc:format>image/svg+xml</dc:format>\n    <dc:creator>\n     <cc:Agent>\n      <dc:title>Matplotlib v3.4.2, https://matplotlib.org/</dc:title>\n     </cc:Agent>\n    </dc:creator>\n   </cc:Work>\n  </rdf:RDF>\n </metadata>\n <defs>\n  <style type=\"text/css\">*{stroke-linecap:butt;stroke-linejoin:round;}</style>\n </defs>\n <g id=\"figure_1\">\n  <g id=\"patch_1\">\n   <path d=\"M 0 244.661875 \nL 374.94375 244.661875 \nL 374.94375 0 \nL 0 0 \nz\n\" style=\"fill:#ffffff;\"/>\n  </g>\n  <g id=\"axes_1\">\n   <g id=\"patch_2\">\n    <path d=\"M 32.94375 224.64 \nL 367.74375 224.64 \nL 367.74375 7.2 \nL 32.94375 7.2 \nz\n\" style=\"fill:#ffffff;\"/>\n   </g>\n   <g id=\"matplotlib.axis_1\">\n    <g id=\"xtick_1\">\n     <g id=\"line2d_1\"/>\n     <g id=\"text_1\">\n      <!-- 0.0 -->\n      <g style=\"fill:#262626;\" transform=\"translate(41.211932 235.386875)scale(0.1 -0.1)\">\n       <defs>\n        <path d=\"M 3309 2203 \nQ 3309 1569 3189 1136 \nQ 3069 703 2861 436 \nQ 2653 169 2372 53 \nQ 2091 -63 1772 -63 \nQ 1450 -63 1172 53 \nQ 894 169 689 434 \nQ 484 700 367 1133 \nQ 250 1566 250 2203 \nQ 250 2869 367 3305 \nQ 484 3741 690 4000 \nQ 897 4259 1178 4364 \nQ 1459 4469 1791 4469 \nQ 2106 4469 2382 4364 \nQ 2659 4259 2865 4000 \nQ 3072 3741 3190 3305 \nQ 3309 2869 3309 2203 \nz\nM 2738 2203 \nQ 2738 2728 2675 3076 \nQ 2613 3425 2491 3633 \nQ 2369 3841 2192 3927 \nQ 2016 4013 1791 4013 \nQ 1553 4013 1372 3925 \nQ 1191 3838 1067 3630 \nQ 944 3422 881 3073 \nQ 819 2725 819 2203 \nQ 819 1697 883 1350 \nQ 947 1003 1070 792 \nQ 1194 581 1372 489 \nQ 1550 397 1778 397 \nQ 2000 397 2178 489 \nQ 2356 581 2479 792 \nQ 2603 1003 2670 1350 \nQ 2738 1697 2738 2203 \nz\n\" id=\"LiberationSans-30\" transform=\"scale(0.015625)\"/>\n        <path d=\"M 584 0 \nL 584 684 \nL 1194 684 \nL 1194 0 \nL 584 0 \nz\n\" id=\"LiberationSans-2e\" transform=\"scale(0.015625)\"/>\n       </defs>\n       <use xlink:href=\"#LiberationSans-30\"/>\n       <use x=\"55.615234\" xlink:href=\"#LiberationSans-2e\"/>\n       <use x=\"83.398438\" xlink:href=\"#LiberationSans-30\"/>\n      </g>\n     </g>\n    </g>\n    <g id=\"xtick_2\">\n     <g id=\"line2d_2\"/>\n     <g id=\"text_2\">\n      <!-- 0.2 -->\n      <g style=\"fill:#262626;\" transform=\"translate(102.084659 235.386875)scale(0.1 -0.1)\">\n       <defs>\n        <path d=\"M 322 0 \nL 322 397 \nQ 481 763 711 1042 \nQ 941 1322 1194 1548 \nQ 1447 1775 1695 1969 \nQ 1944 2163 2144 2356 \nQ 2344 2550 2467 2762 \nQ 2591 2975 2591 3244 \nQ 2591 3431 2534 3573 \nQ 2478 3716 2372 3812 \nQ 2266 3909 2117 3957 \nQ 1969 4006 1788 4006 \nQ 1619 4006 1470 3959 \nQ 1322 3913 1206 3819 \nQ 1091 3725 1017 3586 \nQ 944 3447 922 3263 \nL 347 3316 \nQ 375 3553 478 3762 \nQ 581 3972 762 4130 \nQ 944 4288 1198 4378 \nQ 1453 4469 1788 4469 \nQ 2116 4469 2372 4391 \nQ 2628 4313 2804 4159 \nQ 2981 4006 3075 3781 \nQ 3169 3556 3169 3263 \nQ 3169 3041 3089 2841 \nQ 3009 2641 2876 2459 \nQ 2744 2278 2569 2109 \nQ 2394 1941 2203 1780 \nQ 2013 1619 1819 1461 \nQ 1625 1303 1454 1143 \nQ 1284 984 1150 820 \nQ 1016 656 941 478 \nL 3238 478 \nL 3238 0 \nL 322 0 \nz\n\" id=\"LiberationSans-32\" transform=\"scale(0.015625)\"/>\n       </defs>\n       <use xlink:href=\"#LiberationSans-30\"/>\n       <use x=\"55.615234\" xlink:href=\"#LiberationSans-2e\"/>\n       <use x=\"83.398438\" xlink:href=\"#LiberationSans-32\"/>\n      </g>\n     </g>\n    </g>\n    <g id=\"xtick_3\">\n     <g id=\"line2d_3\"/>\n     <g id=\"text_3\">\n      <!-- 0.4 -->\n      <g style=\"fill:#262626;\" transform=\"translate(162.957386 235.386875)scale(0.1 -0.1)\">\n       <defs>\n        <path d=\"M 2753 997 \nL 2753 0 \nL 2222 0 \nL 2222 997 \nL 147 997 \nL 147 1434 \nL 2163 4403 \nL 2753 4403 \nL 2753 1441 \nL 3372 1441 \nL 3372 997 \nL 2753 997 \nz\nM 2222 3769 \nQ 2216 3753 2191 3708 \nQ 2166 3663 2134 3606 \nQ 2103 3550 2070 3492 \nQ 2038 3434 2013 3397 \nL 884 1734 \nQ 869 1709 839 1668 \nQ 809 1628 778 1586 \nQ 747 1544 715 1503 \nQ 684 1463 666 1441 \nL 2222 1441 \nL 2222 3769 \nz\n\" id=\"LiberationSans-34\" transform=\"scale(0.015625)\"/>\n       </defs>\n       <use xlink:href=\"#LiberationSans-30\"/>\n       <use x=\"55.615234\" xlink:href=\"#LiberationSans-2e\"/>\n       <use x=\"83.398438\" xlink:href=\"#LiberationSans-34\"/>\n      </g>\n     </g>\n    </g>\n    <g id=\"xtick_4\">\n     <g id=\"line2d_4\"/>\n     <g id=\"text_4\">\n      <!-- 0.6 -->\n      <g style=\"fill:#262626;\" transform=\"translate(223.830114 235.386875)scale(0.1 -0.1)\">\n       <defs>\n        <path d=\"M 3278 1441 \nQ 3278 1109 3186 832 \nQ 3094 556 2914 357 \nQ 2734 159 2468 48 \nQ 2203 -63 1856 -63 \nQ 1472 -63 1184 84 \nQ 897 231 706 507 \nQ 516 784 420 1186 \nQ 325 1588 325 2100 \nQ 325 2688 433 3131 \nQ 541 3575 744 3872 \nQ 947 4169 1239 4319 \nQ 1531 4469 1900 4469 \nQ 2125 4469 2322 4422 \nQ 2519 4375 2680 4270 \nQ 2841 4166 2962 3994 \nQ 3084 3822 3156 3572 \nL 2619 3475 \nQ 2531 3759 2339 3886 \nQ 2147 4013 1894 4013 \nQ 1663 4013 1475 3903 \nQ 1288 3794 1156 3576 \nQ 1025 3359 954 3031 \nQ 884 2703 884 2266 \nQ 1038 2550 1316 2698 \nQ 1594 2847 1953 2847 \nQ 2253 2847 2497 2750 \nQ 2741 2653 2914 2470 \nQ 3088 2288 3183 2027 \nQ 3278 1766 3278 1441 \nz\nM 2706 1416 \nQ 2706 1644 2650 1828 \nQ 2594 2013 2481 2142 \nQ 2369 2272 2203 2342 \nQ 2038 2413 1819 2413 \nQ 1666 2413 1509 2367 \nQ 1353 2322 1226 2220 \nQ 1100 2119 1020 1953 \nQ 941 1788 941 1550 \nQ 941 1306 1003 1095 \nQ 1066 884 1183 728 \nQ 1300 572 1465 481 \nQ 1631 391 1838 391 \nQ 2041 391 2202 461 \nQ 2363 531 2475 664 \nQ 2588 797 2647 987 \nQ 2706 1178 2706 1416 \nz\n\" id=\"LiberationSans-36\" transform=\"scale(0.015625)\"/>\n       </defs>\n       <use xlink:href=\"#LiberationSans-30\"/>\n       <use x=\"55.615234\" xlink:href=\"#LiberationSans-2e\"/>\n       <use x=\"83.398438\" xlink:href=\"#LiberationSans-36\"/>\n      </g>\n     </g>\n    </g>\n    <g id=\"xtick_5\">\n     <g id=\"line2d_5\"/>\n     <g id=\"text_5\">\n      <!-- 0.8 -->\n      <g style=\"fill:#262626;\" transform=\"translate(284.702841 235.386875)scale(0.1 -0.1)\">\n       <defs>\n        <path d=\"M 3281 1228 \nQ 3281 947 3192 711 \nQ 3103 475 2920 303 \nQ 2738 131 2453 34 \nQ 2169 -63 1781 -63 \nQ 1394 -63 1111 34 \nQ 828 131 642 301 \nQ 456 472 367 708 \nQ 278 944 278 1222 \nQ 278 1463 351 1650 \nQ 425 1838 548 1973 \nQ 672 2109 830 2192 \nQ 988 2275 1156 2303 \nL 1156 2316 \nQ 972 2359 826 2456 \nQ 681 2553 582 2689 \nQ 484 2825 432 2990 \nQ 381 3156 381 3341 \nQ 381 3572 470 3776 \nQ 559 3981 734 4136 \nQ 909 4291 1168 4380 \nQ 1428 4469 1769 4469 \nQ 2128 4469 2392 4378 \nQ 2656 4288 2829 4133 \nQ 3003 3978 3087 3772 \nQ 3172 3566 3172 3334 \nQ 3172 3153 3120 2987 \nQ 3069 2822 2970 2686 \nQ 2872 2550 2726 2454 \nQ 2581 2359 2391 2322 \nL 2391 2309 \nQ 2581 2278 2743 2195 \nQ 2906 2113 3025 1977 \nQ 3144 1841 3212 1653 \nQ 3281 1466 3281 1228 \nz\nM 2588 3303 \nQ 2588 3469 2545 3606 \nQ 2503 3744 2406 3842 \nQ 2309 3941 2153 3995 \nQ 1997 4050 1769 4050 \nQ 1547 4050 1394 3995 \nQ 1241 3941 1142 3842 \nQ 1044 3744 1000 3606 \nQ 956 3469 956 3303 \nQ 956 3172 990 3034 \nQ 1025 2897 1115 2784 \nQ 1206 2672 1365 2600 \nQ 1525 2528 1775 2528 \nQ 2041 2528 2202 2600 \nQ 2363 2672 2448 2784 \nQ 2534 2897 2561 3034 \nQ 2588 3172 2588 3303 \nz\nM 2697 1281 \nQ 2697 1441 2653 1589 \nQ 2609 1738 2503 1852 \nQ 2397 1966 2217 2036 \nQ 2038 2106 1769 2106 \nQ 1522 2106 1348 2036 \nQ 1175 1966 1067 1850 \nQ 959 1734 909 1582 \nQ 859 1431 859 1269 \nQ 859 1066 909 898 \nQ 959 731 1068 611 \nQ 1178 491 1356 425 \nQ 1534 359 1788 359 \nQ 2044 359 2219 425 \nQ 2394 491 2500 611 \nQ 2606 731 2651 901 \nQ 2697 1072 2697 1281 \nz\n\" id=\"LiberationSans-38\" transform=\"scale(0.015625)\"/>\n       </defs>\n       <use xlink:href=\"#LiberationSans-30\"/>\n       <use x=\"55.615234\" xlink:href=\"#LiberationSans-2e\"/>\n       <use x=\"83.398438\" xlink:href=\"#LiberationSans-38\"/>\n      </g>\n     </g>\n    </g>\n    <g id=\"xtick_6\">\n     <g id=\"line2d_6\"/>\n     <g id=\"text_6\">\n      <!-- 1.0 -->\n      <g style=\"fill:#262626;\" transform=\"translate(345.575568 235.386875)scale(0.1 -0.1)\">\n       <defs>\n        <path d=\"M 488 0 \nL 488 478 \nL 1609 478 \nL 1609 3866 \nL 616 3156 \nL 616 3688 \nL 1656 4403 \nL 2175 4403 \nL 2175 478 \nL 3247 478 \nL 3247 0 \nL 488 0 \nz\n\" id=\"LiberationSans-31\" transform=\"scale(0.015625)\"/>\n       </defs>\n       <use xlink:href=\"#LiberationSans-31\"/>\n       <use x=\"55.615234\" xlink:href=\"#LiberationSans-2e\"/>\n       <use x=\"83.398438\" xlink:href=\"#LiberationSans-30\"/>\n      </g>\n     </g>\n    </g>\n   </g>\n   <g id=\"matplotlib.axis_2\">\n    <g id=\"ytick_1\">\n     <g id=\"line2d_7\"/>\n     <g id=\"text_7\">\n      <!-- 0 -->\n      <g style=\"fill:#262626;\" transform=\"translate(23.882813 228.263437)scale(0.1 -0.1)\">\n       <use xlink:href=\"#LiberationSans-30\"/>\n      </g>\n     </g>\n    </g>\n    <g id=\"ytick_2\">\n     <g id=\"line2d_8\"/>\n     <g id=\"text_8\">\n      <!-- 200 -->\n      <g style=\"fill:#262626;\" transform=\"translate(12.760938 201.730995)scale(0.1 -0.1)\">\n       <use xlink:href=\"#LiberationSans-32\"/>\n       <use x=\"55.615234\" xlink:href=\"#LiberationSans-30\"/>\n       <use x=\"111.230469\" xlink:href=\"#LiberationSans-30\"/>\n      </g>\n     </g>\n    </g>\n    <g id=\"ytick_3\">\n     <g id=\"line2d_9\"/>\n     <g id=\"text_9\">\n      <!-- 400 -->\n      <g style=\"fill:#262626;\" transform=\"translate(12.760938 175.198552)scale(0.1 -0.1)\">\n       <use xlink:href=\"#LiberationSans-34\"/>\n       <use x=\"55.615234\" xlink:href=\"#LiberationSans-30\"/>\n       <use x=\"111.230469\" xlink:href=\"#LiberationSans-30\"/>\n      </g>\n     </g>\n    </g>\n    <g id=\"ytick_4\">\n     <g id=\"line2d_10\"/>\n     <g id=\"text_10\">\n      <!-- 600 -->\n      <g style=\"fill:#262626;\" transform=\"translate(12.760938 148.66611)scale(0.1 -0.1)\">\n       <use xlink:href=\"#LiberationSans-36\"/>\n       <use x=\"55.615234\" xlink:href=\"#LiberationSans-30\"/>\n       <use x=\"111.230469\" xlink:href=\"#LiberationSans-30\"/>\n      </g>\n     </g>\n    </g>\n    <g id=\"ytick_5\">\n     <g id=\"line2d_11\"/>\n     <g id=\"text_11\">\n      <!-- 800 -->\n      <g style=\"fill:#262626;\" transform=\"translate(12.760938 122.133667)scale(0.1 -0.1)\">\n       <use xlink:href=\"#LiberationSans-38\"/>\n       <use x=\"55.615234\" xlink:href=\"#LiberationSans-30\"/>\n       <use x=\"111.230469\" xlink:href=\"#LiberationSans-30\"/>\n      </g>\n     </g>\n    </g>\n    <g id=\"ytick_6\">\n     <g id=\"line2d_12\"/>\n     <g id=\"text_12\">\n      <!-- 1000 -->\n      <g style=\"fill:#262626;\" transform=\"translate(7.2 95.601225)scale(0.1 -0.1)\">\n       <use xlink:href=\"#LiberationSans-31\"/>\n       <use x=\"55.615234\" xlink:href=\"#LiberationSans-30\"/>\n       <use x=\"111.230469\" xlink:href=\"#LiberationSans-30\"/>\n       <use x=\"166.845703\" xlink:href=\"#LiberationSans-30\"/>\n      </g>\n     </g>\n    </g>\n    <g id=\"ytick_7\">\n     <g id=\"line2d_13\"/>\n     <g id=\"text_13\">\n      <!-- 1200 -->\n      <g style=\"fill:#262626;\" transform=\"translate(7.2 69.068782)scale(0.1 -0.1)\">\n       <use xlink:href=\"#LiberationSans-31\"/>\n       <use x=\"55.615234\" xlink:href=\"#LiberationSans-32\"/>\n       <use x=\"111.230469\" xlink:href=\"#LiberationSans-30\"/>\n       <use x=\"166.845703\" xlink:href=\"#LiberationSans-30\"/>\n      </g>\n     </g>\n    </g>\n    <g id=\"ytick_8\">\n     <g id=\"line2d_14\"/>\n     <g id=\"text_14\">\n      <!-- 1400 -->\n      <g style=\"fill:#262626;\" transform=\"translate(7.2 42.536339)scale(0.1 -0.1)\">\n       <use xlink:href=\"#LiberationSans-31\"/>\n       <use x=\"55.615234\" xlink:href=\"#LiberationSans-34\"/>\n       <use x=\"111.230469\" xlink:href=\"#LiberationSans-30\"/>\n       <use x=\"166.845703\" xlink:href=\"#LiberationSans-30\"/>\n      </g>\n     </g>\n    </g>\n    <g id=\"ytick_9\">\n     <g id=\"line2d_15\"/>\n     <g id=\"text_15\">\n      <!-- 1600 -->\n      <g style=\"fill:#262626;\" transform=\"translate(7.2 16.003897)scale(0.1 -0.1)\">\n       <use xlink:href=\"#LiberationSans-31\"/>\n       <use x=\"55.615234\" xlink:href=\"#LiberationSans-36\"/>\n       <use x=\"111.230469\" xlink:href=\"#LiberationSans-30\"/>\n       <use x=\"166.845703\" xlink:href=\"#LiberationSans-30\"/>\n      </g>\n     </g>\n    </g>\n   </g>\n   <g id=\"patch_3\">\n    <path clip-path=\"url(#p8de859792b)\" d=\"M 48.161932 224.64 \nL 51.966477 224.64 \nL 51.966477 59.475545 \nL 48.161932 59.475545 \nz\n\" style=\"fill:#df456d;opacity:0.6;\"/>\n   </g>\n   <g id=\"patch_4\">\n    <path clip-path=\"url(#p8de859792b)\" d=\"M 51.966477 224.64 \nL 55.771023 224.64 \nL 55.771023 224.64 \nL 51.966477 224.64 \nz\n\" style=\"fill:#df456d;opacity:0.6;\"/>\n   </g>\n   <g id=\"patch_5\">\n    <path clip-path=\"url(#p8de859792b)\" d=\"M 55.771023 224.64 \nL 59.575568 224.64 \nL 59.575568 224.374676 \nL 55.771023 224.374676 \nz\n\" style=\"fill:#df456d;opacity:0.6;\"/>\n   </g>\n   <g id=\"patch_6\">\n    <path clip-path=\"url(#p8de859792b)\" d=\"M 59.575568 224.64 \nL 63.380114 224.64 \nL 63.380114 224.109351 \nL 59.575568 224.109351 \nz\n\" style=\"fill:#df456d;opacity:0.6;\"/>\n   </g>\n   <g id=\"patch_7\">\n    <path clip-path=\"url(#p8de859792b)\" d=\"M 63.380114 224.64 \nL 67.184659 224.64 \nL 67.184659 222.517405 \nL 63.380114 222.517405 \nz\n\" style=\"fill:#df456d;opacity:0.6;\"/>\n   </g>\n   <g id=\"patch_8\">\n    <path clip-path=\"url(#p8de859792b)\" d=\"M 67.184659 224.64 \nL 70.989205 224.64 \nL 70.989205 218.139552 \nL 67.184659 218.139552 \nz\n\" style=\"fill:#df456d;opacity:0.6;\"/>\n   </g>\n   <g id=\"patch_9\">\n    <path clip-path=\"url(#p8de859792b)\" d=\"M 70.989205 224.64 \nL 74.79375 224.64 \nL 74.79375 214.557672 \nL 70.989205 214.557672 \nz\n\" style=\"fill:#df456d;opacity:0.6;\"/>\n   </g>\n   <g id=\"patch_10\">\n    <path clip-path=\"url(#p8de859792b)\" d=\"M 74.79375 224.64 \nL 78.598295 224.64 \nL 78.598295 207.526575 \nL 74.79375 207.526575 \nz\n\" style=\"fill:#df456d;opacity:0.6;\"/>\n   </g>\n   <g id=\"patch_11\">\n    <path clip-path=\"url(#p8de859792b)\" d=\"M 78.598295 224.64 \nL 82.402841 224.64 \nL 82.402841 206.465277 \nL 78.598295 206.465277 \nz\n\" style=\"fill:#df456d;opacity:0.6;\"/>\n   </g>\n   <g id=\"patch_12\">\n    <path clip-path=\"url(#p8de859792b)\" d=\"M 82.402841 224.64 \nL 86.207386 224.64 \nL 86.207386 199.832166 \nL 82.402841 199.832166 \nz\n\" style=\"fill:#df456d;opacity:0.6;\"/>\n   </g>\n   <g id=\"patch_13\">\n    <path clip-path=\"url(#p8de859792b)\" d=\"M 86.207386 224.64 \nL 90.011932 224.64 \nL 90.011932 197.444246 \nL 86.207386 197.444246 \nz\n\" style=\"fill:#df456d;opacity:0.6;\"/>\n   </g>\n   <g id=\"patch_14\">\n    <path clip-path=\"url(#p8de859792b)\" d=\"M 90.011932 224.64 \nL 93.816477 224.64 \nL 93.816477 198.903531 \nL 90.011932 198.903531 \nz\n\" style=\"fill:#df456d;opacity:0.6;\"/>\n   </g>\n   <g id=\"patch_15\">\n    <path clip-path=\"url(#p8de859792b)\" d=\"M 93.816477 224.64 \nL 97.621023 224.64 \nL 97.621023 196.780935 \nL 93.816477 196.780935 \nz\n\" style=\"fill:#df456d;opacity:0.6;\"/>\n   </g>\n   <g id=\"patch_16\">\n    <path clip-path=\"url(#p8de859792b)\" d=\"M 97.621023 224.64 \nL 101.425568 224.64 \nL 101.425568 192.668407 \nL 97.621023 192.668407 \nz\n\" style=\"fill:#df456d;opacity:0.6;\"/>\n   </g>\n   <g id=\"patch_17\">\n    <path clip-path=\"url(#p8de859792b)\" d=\"M 101.425568 224.64 \nL 105.230114 224.64 \nL 105.230114 192.403082 \nL 101.425568 192.403082 \nz\n\" style=\"fill:#df456d;opacity:0.6;\"/>\n   </g>\n   <g id=\"patch_18\">\n    <path clip-path=\"url(#p8de859792b)\" d=\"M 105.230114 224.64 \nL 109.034659 224.64 \nL 109.034659 193.331718 \nL 105.230114 193.331718 \nz\n\" style=\"fill:#df456d;opacity:0.6;\"/>\n   </g>\n   <g id=\"patch_19\">\n    <path clip-path=\"url(#p8de859792b)\" d=\"M 109.034659 224.64 \nL 112.839205 224.64 \nL 112.839205 192.801069 \nL 109.034659 192.801069 \nz\n\" style=\"fill:#df456d;opacity:0.6;\"/>\n   </g>\n   <g id=\"patch_20\">\n    <path clip-path=\"url(#p8de859792b)\" d=\"M 112.839205 224.64 \nL 116.64375 224.64 \nL 116.64375 192.137758 \nL 112.839205 192.137758 \nz\n\" style=\"fill:#df456d;opacity:0.6;\"/>\n   </g>\n   <g id=\"patch_21\">\n    <path clip-path=\"url(#p8de859792b)\" d=\"M 116.64375 224.64 \nL 120.448295 224.64 \nL 120.448295 195.8523 \nL 116.64375 195.8523 \nz\n\" style=\"fill:#df456d;opacity:0.6;\"/>\n   </g>\n   <g id=\"patch_22\">\n    <path clip-path=\"url(#p8de859792b)\" d=\"M 120.448295 224.64 \nL 124.252841 224.64 \nL 124.252841 195.056327 \nL 120.448295 195.056327 \nz\n\" style=\"fill:#df456d;opacity:0.6;\"/>\n   </g>\n   <g id=\"patch_23\">\n    <path clip-path=\"url(#p8de859792b)\" d=\"M 124.252841 224.64 \nL 128.057386 224.64 \nL 128.057386 190.811136 \nL 124.252841 190.811136 \nz\n\" style=\"fill:#df456d;opacity:0.6;\"/>\n   </g>\n   <g id=\"patch_24\">\n    <path clip-path=\"url(#p8de859792b)\" d=\"M 128.057386 224.64 \nL 131.861932 224.64 \nL 131.861932 197.311584 \nL 128.057386 197.311584 \nz\n\" style=\"fill:#df456d;opacity:0.6;\"/>\n   </g>\n   <g id=\"patch_25\">\n    <path clip-path=\"url(#p8de859792b)\" d=\"M 131.861932 224.64 \nL 135.666477 224.64 \nL 135.666477 196.913598 \nL 131.861932 196.913598 \nz\n\" style=\"fill:#df456d;opacity:0.6;\"/>\n   </g>\n   <g id=\"patch_26\">\n    <path clip-path=\"url(#p8de859792b)\" d=\"M 135.666477 224.64 \nL 139.471023 224.64 \nL 139.471023 197.444246 \nL 135.666477 197.444246 \nz\n\" style=\"fill:#df456d;opacity:0.6;\"/>\n   </g>\n   <g id=\"patch_27\">\n    <path clip-path=\"url(#p8de859792b)\" d=\"M 139.471023 224.64 \nL 143.275568 224.64 \nL 143.275568 196.913598 \nL 139.471023 196.913598 \nz\n\" style=\"fill:#df456d;opacity:0.6;\"/>\n   </g>\n   <g id=\"patch_28\">\n    <path clip-path=\"url(#p8de859792b)\" d=\"M 143.275568 224.64 \nL 147.080114 224.64 \nL 147.080114 199.036193 \nL 143.275568 199.036193 \nz\n\" style=\"fill:#df456d;opacity:0.6;\"/>\n   </g>\n   <g id=\"patch_29\">\n    <path clip-path=\"url(#p8de859792b)\" d=\"M 147.080114 224.64 \nL 150.884659 224.64 \nL 150.884659 198.638206 \nL 147.080114 198.638206 \nz\n\" style=\"fill:#df456d;opacity:0.6;\"/>\n   </g>\n   <g id=\"patch_30\">\n    <path clip-path=\"url(#p8de859792b)\" d=\"M 150.884659 224.64 \nL 154.689205 224.64 \nL 154.689205 198.505544 \nL 150.884659 198.505544 \nz\n\" style=\"fill:#df456d;opacity:0.6;\"/>\n   </g>\n   <g id=\"patch_31\">\n    <path clip-path=\"url(#p8de859792b)\" d=\"M 154.689205 224.64 \nL 158.49375 224.64 \nL 158.49375 203.944695 \nL 154.689205 203.944695 \nz\n\" style=\"fill:#df456d;opacity:0.6;\"/>\n   </g>\n   <g id=\"patch_32\">\n    <path clip-path=\"url(#p8de859792b)\" d=\"M 158.49375 224.64 \nL 162.298295 224.64 \nL 162.298295 201.954762 \nL 158.49375 201.954762 \nz\n\" style=\"fill:#df456d;opacity:0.6;\"/>\n   </g>\n   <g id=\"patch_33\">\n    <path clip-path=\"url(#p8de859792b)\" d=\"M 162.298295 224.64 \nL 166.102841 224.64 \nL 166.102841 205.271317 \nL 162.298295 205.271317 \nz\n\" style=\"fill:#df456d;opacity:0.6;\"/>\n   </g>\n   <g id=\"patch_34\">\n    <path clip-path=\"url(#p8de859792b)\" d=\"M 166.102841 224.64 \nL 169.907386 224.64 \nL 169.907386 204.740668 \nL 166.102841 204.740668 \nz\n\" style=\"fill:#df456d;opacity:0.6;\"/>\n   </g>\n   <g id=\"patch_35\">\n    <path clip-path=\"url(#p8de859792b)\" d=\"M 169.907386 224.64 \nL 173.711932 224.64 \nL 173.711932 207.393912 \nL 169.907386 207.393912 \nz\n\" style=\"fill:#df456d;opacity:0.6;\"/>\n   </g>\n   <g id=\"patch_36\">\n    <path clip-path=\"url(#p8de859792b)\" d=\"M 173.711932 224.64 \nL 177.516477 224.64 \nL 177.516477 208.985859 \nL 173.711932 208.985859 \nz\n\" style=\"fill:#df456d;opacity:0.6;\"/>\n   </g>\n   <g id=\"patch_37\">\n    <path clip-path=\"url(#p8de859792b)\" d=\"M 177.516477 224.64 \nL 181.321023 224.64 \nL 181.321023 208.853197 \nL 177.516477 208.853197 \nz\n\" style=\"fill:#df456d;opacity:0.6;\"/>\n   </g>\n   <g id=\"patch_38\">\n    <path clip-path=\"url(#p8de859792b)\" d=\"M 181.321023 224.64 \nL 185.125568 224.64 \nL 185.125568 211.904428 \nL 181.321023 211.904428 \nz\n\" style=\"fill:#df456d;opacity:0.6;\"/>\n   </g>\n   <g id=\"patch_39\">\n    <path clip-path=\"url(#p8de859792b)\" d=\"M 185.125568 224.64 \nL 188.930114 224.64 \nL 188.930114 210.975792 \nL 185.125568 210.975792 \nz\n\" style=\"fill:#df456d;opacity:0.6;\"/>\n   </g>\n   <g id=\"patch_40\">\n    <path clip-path=\"url(#p8de859792b)\" d=\"M 188.930114 224.64 \nL 192.734659 224.64 \nL 192.734659 210.577805 \nL 188.930114 210.577805 \nz\n\" style=\"fill:#df456d;opacity:0.6;\"/>\n   </g>\n   <g id=\"patch_41\">\n    <path clip-path=\"url(#p8de859792b)\" d=\"M 192.734659 224.64 \nL 196.539205 224.64 \nL 196.539205 210.312481 \nL 192.734659 210.312481 \nz\n\" style=\"fill:#df456d;opacity:0.6;\"/>\n   </g>\n   <g id=\"patch_42\">\n    <path clip-path=\"url(#p8de859792b)\" d=\"M 196.539205 224.64 \nL 200.34375 224.64 \nL 200.34375 211.108454 \nL 196.539205 211.108454 \nz\n\" style=\"fill:#df456d;opacity:0.6;\"/>\n   </g>\n   <g id=\"patch_43\">\n    <path clip-path=\"url(#p8de859792b)\" d=\"M 200.34375 224.64 \nL 204.148295 224.64 \nL 204.148295 212.302414 \nL 200.34375 212.302414 \nz\n\" style=\"fill:#df456d;opacity:0.6;\"/>\n   </g>\n   <g id=\"patch_44\">\n    <path clip-path=\"url(#p8de859792b)\" d=\"M 204.148295 224.64 \nL 207.952841 224.64 \nL 207.952841 213.894361 \nL 204.148295 213.894361 \nz\n\" style=\"fill:#df456d;opacity:0.6;\"/>\n   </g>\n   <g id=\"patch_45\">\n    <path clip-path=\"url(#p8de859792b)\" d=\"M 207.952841 224.64 \nL 211.757386 224.64 \nL 211.757386 210.710468 \nL 207.952841 210.710468 \nz\n\" style=\"fill:#df456d;opacity:0.6;\"/>\n   </g>\n   <g id=\"patch_46\">\n    <path clip-path=\"url(#p8de859792b)\" d=\"M 211.757386 224.64 \nL 215.561932 224.64 \nL 215.561932 211.241117 \nL 211.757386 211.241117 \nz\n\" style=\"fill:#df456d;opacity:0.6;\"/>\n   </g>\n   <g id=\"patch_47\">\n    <path clip-path=\"url(#p8de859792b)\" d=\"M 215.561932 224.64 \nL 219.366477 224.64 \nL 219.366477 213.894361 \nL 215.561932 213.894361 \nz\n\" style=\"fill:#df456d;opacity:0.6;\"/>\n   </g>\n   <g id=\"patch_48\">\n    <path clip-path=\"url(#p8de859792b)\" d=\"M 219.366477 224.64 \nL 223.171023 224.64 \nL 223.171023 214.690334 \nL 219.366477 214.690334 \nz\n\" style=\"fill:#df456d;opacity:0.6;\"/>\n   </g>\n   <g id=\"patch_49\">\n    <path clip-path=\"url(#p8de859792b)\" d=\"M 223.171023 224.64 \nL 226.975568 224.64 \nL 226.975568 213.761699 \nL 223.171023 213.761699 \nz\n\" style=\"fill:#df456d;opacity:0.6;\"/>\n   </g>\n   <g id=\"patch_50\">\n    <path clip-path=\"url(#p8de859792b)\" d=\"M 226.975568 224.64 \nL 230.780114 224.64 \nL 230.780114 214.292347 \nL 226.975568 214.292347 \nz\n\" style=\"fill:#df456d;opacity:0.6;\"/>\n   </g>\n   <g id=\"patch_51\">\n    <path clip-path=\"url(#p8de859792b)\" d=\"M 230.780114 224.64 \nL 234.584659 224.64 \nL 234.584659 214.822996 \nL 230.780114 214.822996 \nz\n\" style=\"fill:#df456d;opacity:0.6;\"/>\n   </g>\n   <g id=\"patch_52\">\n    <path clip-path=\"url(#p8de859792b)\" d=\"M 234.584659 224.64 \nL 238.389205 224.64 \nL 238.389205 216.680267 \nL 234.584659 216.680267 \nz\n\" style=\"fill:#df456d;opacity:0.6;\"/>\n   </g>\n   <g id=\"patch_53\">\n    <path clip-path=\"url(#p8de859792b)\" d=\"M 238.389205 224.64 \nL 242.19375 224.64 \nL 242.19375 216.149618 \nL 238.389205 216.149618 \nz\n\" style=\"fill:#df456d;opacity:0.6;\"/>\n   </g>\n   <g id=\"patch_54\">\n    <path clip-path=\"url(#p8de859792b)\" d=\"M 242.19375 224.64 \nL 245.998295 224.64 \nL 245.998295 216.016956 \nL 242.19375 216.016956 \nz\n\" style=\"fill:#df456d;opacity:0.6;\"/>\n   </g>\n   <g id=\"patch_55\">\n    <path clip-path=\"url(#p8de859792b)\" d=\"M 245.998295 224.64 \nL 249.802841 224.64 \nL 249.802841 217.078254 \nL 245.998295 217.078254 \nz\n\" style=\"fill:#df456d;opacity:0.6;\"/>\n   </g>\n   <g id=\"patch_56\">\n    <path clip-path=\"url(#p8de859792b)\" d=\"M 249.802841 224.64 \nL 253.607386 224.64 \nL 253.607386 215.088321 \nL 249.802841 215.088321 \nz\n\" style=\"fill:#df456d;opacity:0.6;\"/>\n   </g>\n   <g id=\"patch_57\">\n    <path clip-path=\"url(#p8de859792b)\" d=\"M 253.607386 224.64 \nL 257.411932 224.64 \nL 257.411932 218.6702 \nL 253.607386 218.6702 \nz\n\" style=\"fill:#df456d;opacity:0.6;\"/>\n   </g>\n   <g id=\"patch_58\">\n    <path clip-path=\"url(#p8de859792b)\" d=\"M 257.411932 224.64 \nL 261.216477 224.64 \nL 261.216477 215.088321 \nL 257.411932 215.088321 \nz\n\" style=\"fill:#df456d;opacity:0.6;\"/>\n   </g>\n   <g id=\"patch_59\">\n    <path clip-path=\"url(#p8de859792b)\" d=\"M 261.216477 224.64 \nL 265.021023 224.64 \nL 265.021023 216.945592 \nL 261.216477 216.945592 \nz\n\" style=\"fill:#df456d;opacity:0.6;\"/>\n   </g>\n   <g id=\"patch_60\">\n    <path clip-path=\"url(#p8de859792b)\" d=\"M 265.021023 224.64 \nL 268.825568 224.64 \nL 268.825568 218.139552 \nL 265.021023 218.139552 \nz\n\" style=\"fill:#df456d;opacity:0.6;\"/>\n   </g>\n   <g id=\"patch_61\">\n    <path clip-path=\"url(#p8de859792b)\" d=\"M 268.825568 224.64 \nL 272.630114 224.64 \nL 272.630114 217.078254 \nL 268.825568 217.078254 \nz\n\" style=\"fill:#df456d;opacity:0.6;\"/>\n   </g>\n   <g id=\"patch_62\">\n    <path clip-path=\"url(#p8de859792b)\" d=\"M 272.630114 224.64 \nL 276.434659 224.64 \nL 276.434659 217.210916 \nL 272.630114 217.210916 \nz\n\" style=\"fill:#df456d;opacity:0.6;\"/>\n   </g>\n   <g id=\"patch_63\">\n    <path clip-path=\"url(#p8de859792b)\" d=\"M 276.434659 224.64 \nL 280.239205 224.64 \nL 280.239205 214.557672 \nL 276.434659 214.557672 \nz\n\" style=\"fill:#df456d;opacity:0.6;\"/>\n   </g>\n   <g id=\"patch_64\">\n    <path clip-path=\"url(#p8de859792b)\" d=\"M 280.239205 224.64 \nL 284.04375 224.64 \nL 284.04375 218.272214 \nL 280.239205 218.272214 \nz\n\" style=\"fill:#df456d;opacity:0.6;\"/>\n   </g>\n   <g id=\"patch_65\">\n    <path clip-path=\"url(#p8de859792b)\" d=\"M 284.04375 224.64 \nL 287.848295 224.64 \nL 287.848295 216.016956 \nL 284.04375 216.016956 \nz\n\" style=\"fill:#df456d;opacity:0.6;\"/>\n   </g>\n   <g id=\"patch_66\">\n    <path clip-path=\"url(#p8de859792b)\" d=\"M 287.848295 224.64 \nL 291.652841 224.64 \nL 291.652841 218.404876 \nL 287.848295 218.404876 \nz\n\" style=\"fill:#df456d;opacity:0.6;\"/>\n   </g>\n   <g id=\"patch_67\">\n    <path clip-path=\"url(#p8de859792b)\" d=\"M 291.652841 224.64 \nL 295.457386 224.64 \nL 295.457386 215.353645 \nL 291.652841 215.353645 \nz\n\" style=\"fill:#df456d;opacity:0.6;\"/>\n   </g>\n   <g id=\"patch_68\">\n    <path clip-path=\"url(#p8de859792b)\" d=\"M 295.457386 224.64 \nL 299.261932 224.64 \nL 299.261932 219.068187 \nL 295.457386 219.068187 \nz\n\" style=\"fill:#df456d;opacity:0.6;\"/>\n   </g>\n   <g id=\"patch_69\">\n    <path clip-path=\"url(#p8de859792b)\" d=\"M 299.261932 224.64 \nL 303.066477 224.64 \nL 303.066477 218.537538 \nL 299.261932 218.537538 \nz\n\" style=\"fill:#df456d;opacity:0.6;\"/>\n   </g>\n   <g id=\"patch_70\">\n    <path clip-path=\"url(#p8de859792b)\" d=\"M 303.066477 224.64 \nL 306.871023 224.64 \nL 306.871023 210.577805 \nL 303.066477 210.577805 \nz\n\" style=\"fill:#df456d;opacity:0.6;\"/>\n   </g>\n   <g id=\"patch_71\">\n    <path clip-path=\"url(#p8de859792b)\" d=\"M 306.871023 224.64 \nL 310.675568 224.64 \nL 310.675568 217.874227 \nL 306.871023 217.874227 \nz\n\" style=\"fill:#df456d;opacity:0.6;\"/>\n   </g>\n   <g id=\"patch_72\">\n    <path clip-path=\"url(#p8de859792b)\" d=\"M 310.675568 224.64 \nL 314.480114 224.64 \nL 314.480114 218.935525 \nL 310.675568 218.935525 \nz\n\" style=\"fill:#df456d;opacity:0.6;\"/>\n   </g>\n   <g id=\"patch_73\">\n    <path clip-path=\"url(#p8de859792b)\" d=\"M 314.480114 224.64 \nL 318.284659 224.64 \nL 318.284659 218.802863 \nL 314.480114 218.802863 \nz\n\" style=\"fill:#df456d;opacity:0.6;\"/>\n   </g>\n   <g id=\"patch_74\">\n    <path clip-path=\"url(#p8de859792b)\" d=\"M 318.284659 224.64 \nL 322.089205 224.64 \nL 322.089205 220.394809 \nL 318.284659 220.394809 \nz\n\" style=\"fill:#df456d;opacity:0.6;\"/>\n   </g>\n   <g id=\"patch_75\">\n    <path clip-path=\"url(#p8de859792b)\" d=\"M 322.089205 224.64 \nL 325.89375 224.64 \nL 325.89375 221.721431 \nL 322.089205 221.721431 \nz\n\" style=\"fill:#df456d;opacity:0.6;\"/>\n   </g>\n   <g id=\"patch_76\">\n    <path clip-path=\"url(#p8de859792b)\" d=\"M 325.89375 224.64 \nL 329.698295 224.64 \nL 329.698295 221.456107 \nL 325.89375 221.456107 \nz\n\" style=\"fill:#df456d;opacity:0.6;\"/>\n   </g>\n   <g id=\"patch_77\">\n    <path clip-path=\"url(#p8de859792b)\" d=\"M 329.698295 224.64 \nL 333.502841 224.64 \nL 333.502841 216.812929 \nL 329.698295 216.812929 \nz\n\" style=\"fill:#df456d;opacity:0.6;\"/>\n   </g>\n   <g id=\"patch_78\">\n    <path clip-path=\"url(#p8de859792b)\" d=\"M 333.502841 224.64 \nL 337.307386 224.64 \nL 337.307386 221.986756 \nL 333.502841 221.986756 \nz\n\" style=\"fill:#df456d;opacity:0.6;\"/>\n   </g>\n   <g id=\"patch_79\">\n    <path clip-path=\"url(#p8de859792b)\" d=\"M 337.307386 224.64 \nL 341.111932 224.64 \nL 341.111932 221.190782 \nL 337.307386 221.190782 \nz\n\" style=\"fill:#df456d;opacity:0.6;\"/>\n   </g>\n   <g id=\"patch_80\">\n    <path clip-path=\"url(#p8de859792b)\" d=\"M 341.111932 224.64 \nL 344.916477 224.64 \nL 344.916477 224.64 \nL 341.111932 224.64 \nz\n\" style=\"fill:#df456d;opacity:0.6;\"/>\n   </g>\n   <g id=\"patch_81\">\n    <path clip-path=\"url(#p8de859792b)\" d=\"M 344.916477 224.64 \nL 348.721023 224.64 \nL 348.721023 224.64 \nL 344.916477 224.64 \nz\n\" style=\"fill:#df456d;opacity:0.6;\"/>\n   </g>\n   <g id=\"patch_82\">\n    <path clip-path=\"url(#p8de859792b)\" d=\"M 348.721023 224.64 \nL 352.525568 224.64 \nL 352.525568 17.554286 \nL 348.721023 17.554286 \nz\n\" style=\"fill:#df456d;opacity:0.6;\"/>\n   </g>\n   <g id=\"patch_83\">\n    <path clip-path=\"url(#p8de859792b)\" d=\"M 48.161932 224.64 \nL 51.966477 224.64 \nL 51.966477 223.711365 \nL 48.161932 223.711365 \nz\n\" style=\"fill:#ffc000;opacity:0.6;\"/>\n   </g>\n   <g id=\"patch_84\">\n    <path clip-path=\"url(#p8de859792b)\" d=\"M 51.966477 224.64 \nL 55.771023 224.64 \nL 55.771023 224.64 \nL 51.966477 224.64 \nz\n\" style=\"fill:#ffc000;opacity:0.6;\"/>\n   </g>\n   <g id=\"patch_85\">\n    <path clip-path=\"url(#p8de859792b)\" d=\"M 55.771023 224.64 \nL 59.575568 224.64 \nL 59.575568 224.374676 \nL 55.771023 224.374676 \nz\n\" style=\"fill:#ffc000;opacity:0.6;\"/>\n   </g>\n   <g id=\"patch_86\">\n    <path clip-path=\"url(#p8de859792b)\" d=\"M 59.575568 224.64 \nL 63.380114 224.64 \nL 63.380114 224.507338 \nL 59.575568 224.507338 \nz\n\" style=\"fill:#ffc000;opacity:0.6;\"/>\n   </g>\n   <g id=\"patch_87\">\n    <path clip-path=\"url(#p8de859792b)\" d=\"M 63.380114 224.64 \nL 67.184659 224.64 \nL 67.184659 224.374676 \nL 63.380114 224.374676 \nz\n\" style=\"fill:#ffc000;opacity:0.6;\"/>\n   </g>\n   <g id=\"patch_88\">\n    <path clip-path=\"url(#p8de859792b)\" d=\"M 67.184659 224.64 \nL 70.989205 224.64 \nL 70.989205 224.242013 \nL 67.184659 224.242013 \nz\n\" style=\"fill:#ffc000;opacity:0.6;\"/>\n   </g>\n   <g id=\"patch_89\">\n    <path clip-path=\"url(#p8de859792b)\" d=\"M 70.989205 224.64 \nL 74.79375 224.64 \nL 74.79375 223.844027 \nL 70.989205 223.844027 \nz\n\" style=\"fill:#ffc000;opacity:0.6;\"/>\n   </g>\n   <g id=\"patch_90\">\n    <path clip-path=\"url(#p8de859792b)\" d=\"M 74.79375 224.64 \nL 78.598295 224.64 \nL 78.598295 224.374676 \nL 74.79375 224.374676 \nz\n\" style=\"fill:#ffc000;opacity:0.6;\"/>\n   </g>\n   <g id=\"patch_91\">\n    <path clip-path=\"url(#p8de859792b)\" d=\"M 78.598295 224.64 \nL 82.402841 224.64 \nL 82.402841 223.976689 \nL 78.598295 223.976689 \nz\n\" style=\"fill:#ffc000;opacity:0.6;\"/>\n   </g>\n   <g id=\"patch_92\">\n    <path clip-path=\"url(#p8de859792b)\" d=\"M 82.402841 224.64 \nL 86.207386 224.64 \nL 86.207386 223.976689 \nL 82.402841 223.976689 \nz\n\" style=\"fill:#ffc000;opacity:0.6;\"/>\n   </g>\n   <g id=\"patch_93\">\n    <path clip-path=\"url(#p8de859792b)\" d=\"M 86.207386 224.64 \nL 90.011932 224.64 \nL 90.011932 223.44604 \nL 86.207386 223.44604 \nz\n\" style=\"fill:#ffc000;opacity:0.6;\"/>\n   </g>\n   <g id=\"patch_94\">\n    <path clip-path=\"url(#p8de859792b)\" d=\"M 90.011932 224.64 \nL 93.816477 224.64 \nL 93.816477 223.578702 \nL 90.011932 223.578702 \nz\n\" style=\"fill:#ffc000;opacity:0.6;\"/>\n   </g>\n   <g id=\"patch_95\">\n    <path clip-path=\"url(#p8de859792b)\" d=\"M 93.816477 224.64 \nL 97.621023 224.64 \nL 97.621023 222.915391 \nL 93.816477 222.915391 \nz\n\" style=\"fill:#ffc000;opacity:0.6;\"/>\n   </g>\n   <g id=\"patch_96\">\n    <path clip-path=\"url(#p8de859792b)\" d=\"M 97.621023 224.64 \nL 101.425568 224.64 \nL 101.425568 222.119418 \nL 97.621023 222.119418 \nz\n\" style=\"fill:#ffc000;opacity:0.6;\"/>\n   </g>\n   <g id=\"patch_97\">\n    <path clip-path=\"url(#p8de859792b)\" d=\"M 101.425568 224.64 \nL 105.230114 224.64 \nL 105.230114 220.527471 \nL 101.425568 220.527471 \nz\n\" style=\"fill:#ffc000;opacity:0.6;\"/>\n   </g>\n   <g id=\"patch_98\">\n    <path clip-path=\"url(#p8de859792b)\" d=\"M 105.230114 224.64 \nL 109.034659 224.64 \nL 109.034659 221.05812 \nL 105.230114 221.05812 \nz\n\" style=\"fill:#ffc000;opacity:0.6;\"/>\n   </g>\n   <g id=\"patch_99\">\n    <path clip-path=\"url(#p8de859792b)\" d=\"M 109.034659 224.64 \nL 112.839205 224.64 \nL 112.839205 218.935525 \nL 109.034659 218.935525 \nz\n\" style=\"fill:#ffc000;opacity:0.6;\"/>\n   </g>\n   <g id=\"patch_100\">\n    <path clip-path=\"url(#p8de859792b)\" d=\"M 112.839205 224.64 \nL 116.64375 224.64 \nL 116.64375 218.537538 \nL 112.839205 218.537538 \nz\n\" style=\"fill:#ffc000;opacity:0.6;\"/>\n   </g>\n   <g id=\"patch_101\">\n    <path clip-path=\"url(#p8de859792b)\" d=\"M 116.64375 224.64 \nL 120.448295 224.64 \nL 120.448295 216.680267 \nL 116.64375 216.680267 \nz\n\" style=\"fill:#ffc000;opacity:0.6;\"/>\n   </g>\n   <g id=\"patch_102\">\n    <path clip-path=\"url(#p8de859792b)\" d=\"M 120.448295 224.64 \nL 124.252841 224.64 \nL 124.252841 212.435076 \nL 120.448295 212.435076 \nz\n\" style=\"fill:#ffc000;opacity:0.6;\"/>\n   </g>\n   <g id=\"patch_103\">\n    <path clip-path=\"url(#p8de859792b)\" d=\"M 124.252841 224.64 \nL 128.057386 224.64 \nL 128.057386 209.914494 \nL 124.252841 209.914494 \nz\n\" style=\"fill:#ffc000;opacity:0.6;\"/>\n   </g>\n   <g id=\"patch_104\">\n    <path clip-path=\"url(#p8de859792b)\" d=\"M 128.057386 224.64 \nL 131.861932 224.64 \nL 131.861932 206.863263 \nL 128.057386 206.863263 \nz\n\" style=\"fill:#ffc000;opacity:0.6;\"/>\n   </g>\n   <g id=\"patch_105\">\n    <path clip-path=\"url(#p8de859792b)\" d=\"M 131.861932 224.64 \nL 135.666477 224.64 \nL 135.666477 205.801966 \nL 131.861932 205.801966 \nz\n\" style=\"fill:#ffc000;opacity:0.6;\"/>\n   </g>\n   <g id=\"patch_106\">\n    <path clip-path=\"url(#p8de859792b)\" d=\"M 135.666477 224.64 \nL 139.471023 224.64 \nL 139.471023 202.220086 \nL 135.666477 202.220086 \nz\n\" style=\"fill:#ffc000;opacity:0.6;\"/>\n   </g>\n   <g id=\"patch_107\">\n    <path clip-path=\"url(#p8de859792b)\" d=\"M 139.471023 224.64 \nL 143.275568 224.64 \nL 143.275568 198.372882 \nL 139.471023 198.372882 \nz\n\" style=\"fill:#ffc000;opacity:0.6;\"/>\n   </g>\n   <g id=\"patch_108\">\n    <path clip-path=\"url(#p8de859792b)\" d=\"M 143.275568 224.64 \nL 147.080114 224.64 \nL 147.080114 195.454313 \nL 143.275568 195.454313 \nz\n\" style=\"fill:#ffc000;opacity:0.6;\"/>\n   </g>\n   <g id=\"patch_109\">\n    <path clip-path=\"url(#p8de859792b)\" d=\"M 147.080114 224.64 \nL 150.884659 224.64 \nL 150.884659 194.65834 \nL 147.080114 194.65834 \nz\n\" style=\"fill:#ffc000;opacity:0.6;\"/>\n   </g>\n   <g id=\"patch_110\">\n    <path clip-path=\"url(#p8de859792b)\" d=\"M 150.884659 224.64 \nL 154.689205 224.64 \nL 154.689205 192.137758 \nL 150.884659 192.137758 \nz\n\" style=\"fill:#ffc000;opacity:0.6;\"/>\n   </g>\n   <g id=\"patch_111\">\n    <path clip-path=\"url(#p8de859792b)\" d=\"M 154.689205 224.64 \nL 158.49375 224.64 \nL 158.49375 190.015162 \nL 154.689205 190.015162 \nz\n\" style=\"fill:#ffc000;opacity:0.6;\"/>\n   </g>\n   <g id=\"patch_112\">\n    <path clip-path=\"url(#p8de859792b)\" d=\"M 158.49375 224.64 \nL 162.298295 224.64 \nL 162.298295 194.127691 \nL 158.49375 194.127691 \nz\n\" style=\"fill:#ffc000;opacity:0.6;\"/>\n   </g>\n   <g id=\"patch_113\">\n    <path clip-path=\"url(#p8de859792b)\" d=\"M 162.298295 224.64 \nL 166.102841 224.64 \nL 166.102841 190.280487 \nL 162.298295 190.280487 \nz\n\" style=\"fill:#ffc000;opacity:0.6;\"/>\n   </g>\n   <g id=\"patch_114\">\n    <path clip-path=\"url(#p8de859792b)\" d=\"M 166.102841 224.64 \nL 169.907386 224.64 \nL 169.907386 191.07646 \nL 166.102841 191.07646 \nz\n\" style=\"fill:#ffc000;opacity:0.6;\"/>\n   </g>\n   <g id=\"patch_115\">\n    <path clip-path=\"url(#p8de859792b)\" d=\"M 169.907386 224.64 \nL 173.711932 224.64 \nL 173.711932 186.698607 \nL 169.907386 186.698607 \nz\n\" style=\"fill:#ffc000;opacity:0.6;\"/>\n   </g>\n   <g id=\"patch_116\">\n    <path clip-path=\"url(#p8de859792b)\" d=\"M 173.711932 224.64 \nL 177.516477 224.64 \nL 177.516477 187.229256 \nL 173.711932 187.229256 \nz\n\" style=\"fill:#ffc000;opacity:0.6;\"/>\n   </g>\n   <g id=\"patch_117\">\n    <path clip-path=\"url(#p8de859792b)\" d=\"M 177.516477 224.64 \nL 181.321023 224.64 \nL 181.321023 188.423216 \nL 177.516477 188.423216 \nz\n\" style=\"fill:#ffc000;opacity:0.6;\"/>\n   </g>\n   <g id=\"patch_118\">\n    <path clip-path=\"url(#p8de859792b)\" d=\"M 181.321023 224.64 \nL 185.125568 224.64 \nL 185.125568 189.219189 \nL 181.321023 189.219189 \nz\n\" style=\"fill:#ffc000;opacity:0.6;\"/>\n   </g>\n   <g id=\"patch_119\">\n    <path clip-path=\"url(#p8de859792b)\" d=\"M 185.125568 224.64 \nL 188.930114 224.64 \nL 188.930114 191.07646 \nL 185.125568 191.07646 \nz\n\" style=\"fill:#ffc000;opacity:0.6;\"/>\n   </g>\n   <g id=\"patch_120\">\n    <path clip-path=\"url(#p8de859792b)\" d=\"M 188.930114 224.64 \nL 192.734659 224.64 \nL 192.734659 191.07646 \nL 188.930114 191.07646 \nz\n\" style=\"fill:#ffc000;opacity:0.6;\"/>\n   </g>\n   <g id=\"patch_121\">\n    <path clip-path=\"url(#p8de859792b)\" d=\"M 192.734659 224.64 \nL 196.539205 224.64 \nL 196.539205 189.484514 \nL 192.734659 189.484514 \nz\n\" style=\"fill:#ffc000;opacity:0.6;\"/>\n   </g>\n   <g id=\"patch_122\">\n    <path clip-path=\"url(#p8de859792b)\" d=\"M 196.539205 224.64 \nL 200.34375 224.64 \nL 200.34375 197.576909 \nL 196.539205 197.576909 \nz\n\" style=\"fill:#ffc000;opacity:0.6;\"/>\n   </g>\n   <g id=\"patch_123\">\n    <path clip-path=\"url(#p8de859792b)\" d=\"M 200.34375 224.64 \nL 204.148295 224.64 \nL 204.148295 194.65834 \nL 200.34375 194.65834 \nz\n\" style=\"fill:#ffc000;opacity:0.6;\"/>\n   </g>\n   <g id=\"patch_124\">\n    <path clip-path=\"url(#p8de859792b)\" d=\"M 204.148295 224.64 \nL 207.952841 224.64 \nL 207.952841 195.719638 \nL 204.148295 195.719638 \nz\n\" style=\"fill:#ffc000;opacity:0.6;\"/>\n   </g>\n   <g id=\"patch_125\">\n    <path clip-path=\"url(#p8de859792b)\" d=\"M 207.952841 224.64 \nL 211.757386 224.64 \nL 211.757386 196.250286 \nL 207.952841 196.250286 \nz\n\" style=\"fill:#ffc000;opacity:0.6;\"/>\n   </g>\n   <g id=\"patch_126\">\n    <path clip-path=\"url(#p8de859792b)\" d=\"M 211.757386 224.64 \nL 215.561932 224.64 \nL 215.561932 198.903531 \nL 211.757386 198.903531 \nz\n\" style=\"fill:#ffc000;opacity:0.6;\"/>\n   </g>\n   <g id=\"patch_127\">\n    <path clip-path=\"url(#p8de859792b)\" d=\"M 215.561932 224.64 \nL 219.366477 224.64 \nL 219.366477 202.087424 \nL 215.561932 202.087424 \nz\n\" style=\"fill:#ffc000;opacity:0.6;\"/>\n   </g>\n   <g id=\"patch_128\">\n    <path clip-path=\"url(#p8de859792b)\" d=\"M 219.366477 224.64 \nL 223.171023 224.64 \nL 223.171023 201.158788 \nL 219.366477 201.158788 \nz\n\" style=\"fill:#ffc000;opacity:0.6;\"/>\n   </g>\n   <g id=\"patch_129\">\n    <path clip-path=\"url(#p8de859792b)\" d=\"M 223.171023 224.64 \nL 226.975568 224.64 \nL 226.975568 204.077357 \nL 223.171023 204.077357 \nz\n\" style=\"fill:#ffc000;opacity:0.6;\"/>\n   </g>\n   <g id=\"patch_130\">\n    <path clip-path=\"url(#p8de859792b)\" d=\"M 226.975568 224.64 \nL 230.780114 224.64 \nL 230.780114 203.281384 \nL 226.975568 203.281384 \nz\n\" style=\"fill:#ffc000;opacity:0.6;\"/>\n   </g>\n   <g id=\"patch_131\">\n    <path clip-path=\"url(#p8de859792b)\" d=\"M 230.780114 224.64 \nL 234.584659 224.64 \nL 234.584659 204.740668 \nL 230.780114 204.740668 \nz\n\" style=\"fill:#ffc000;opacity:0.6;\"/>\n   </g>\n   <g id=\"patch_132\">\n    <path clip-path=\"url(#p8de859792b)\" d=\"M 234.584659 224.64 \nL 238.389205 224.64 \nL 238.389205 204.475344 \nL 234.584659 204.475344 \nz\n\" style=\"fill:#ffc000;opacity:0.6;\"/>\n   </g>\n   <g id=\"patch_133\">\n    <path clip-path=\"url(#p8de859792b)\" d=\"M 238.389205 224.64 \nL 242.19375 224.64 \nL 242.19375 205.271317 \nL 238.389205 205.271317 \nz\n\" style=\"fill:#ffc000;opacity:0.6;\"/>\n   </g>\n   <g id=\"patch_134\">\n    <path clip-path=\"url(#p8de859792b)\" d=\"M 242.19375 224.64 \nL 245.998295 224.64 \nL 245.998295 208.057223 \nL 242.19375 208.057223 \nz\n\" style=\"fill:#ffc000;opacity:0.6;\"/>\n   </g>\n   <g id=\"patch_135\">\n    <path clip-path=\"url(#p8de859792b)\" d=\"M 245.998295 224.64 \nL 249.802841 224.64 \nL 249.802841 209.118521 \nL 245.998295 209.118521 \nz\n\" style=\"fill:#ffc000;opacity:0.6;\"/>\n   </g>\n   <g id=\"patch_136\">\n    <path clip-path=\"url(#p8de859792b)\" d=\"M 249.802841 224.64 \nL 253.607386 224.64 \nL 253.607386 206.199952 \nL 249.802841 206.199952 \nz\n\" style=\"fill:#ffc000;opacity:0.6;\"/>\n   </g>\n   <g id=\"patch_137\">\n    <path clip-path=\"url(#p8de859792b)\" d=\"M 253.607386 224.64 \nL 257.411932 224.64 \nL 257.411932 209.516508 \nL 253.607386 209.516508 \nz\n\" style=\"fill:#ffc000;opacity:0.6;\"/>\n   </g>\n   <g id=\"patch_138\">\n    <path clip-path=\"url(#p8de859792b)\" d=\"M 257.411932 224.64 \nL 261.216477 224.64 \nL 261.216477 211.241117 \nL 257.411932 211.241117 \nz\n\" style=\"fill:#ffc000;opacity:0.6;\"/>\n   </g>\n   <g id=\"patch_139\">\n    <path clip-path=\"url(#p8de859792b)\" d=\"M 261.216477 224.64 \nL 265.021023 224.64 \nL 265.021023 209.118521 \nL 261.216477 209.118521 \nz\n\" style=\"fill:#ffc000;opacity:0.6;\"/>\n   </g>\n   <g id=\"patch_140\">\n    <path clip-path=\"url(#p8de859792b)\" d=\"M 265.021023 224.64 \nL 268.825568 224.64 \nL 268.825568 206.995926 \nL 265.021023 206.995926 \nz\n\" style=\"fill:#ffc000;opacity:0.6;\"/>\n   </g>\n   <g id=\"patch_141\">\n    <path clip-path=\"url(#p8de859792b)\" d=\"M 268.825568 224.64 \nL 272.630114 224.64 \nL 272.630114 207.791899 \nL 268.825568 207.791899 \nz\n\" style=\"fill:#ffc000;opacity:0.6;\"/>\n   </g>\n   <g id=\"patch_142\">\n    <path clip-path=\"url(#p8de859792b)\" d=\"M 272.630114 224.64 \nL 276.434659 224.64 \nL 276.434659 212.435076 \nL 272.630114 212.435076 \nz\n\" style=\"fill:#ffc000;opacity:0.6;\"/>\n   </g>\n   <g id=\"patch_143\">\n    <path clip-path=\"url(#p8de859792b)\" d=\"M 276.434659 224.64 \nL 280.239205 224.64 \nL 280.239205 212.833063 \nL 276.434659 212.833063 \nz\n\" style=\"fill:#ffc000;opacity:0.6;\"/>\n   </g>\n   <g id=\"patch_144\">\n    <path clip-path=\"url(#p8de859792b)\" d=\"M 280.239205 224.64 \nL 284.04375 224.64 \nL 284.04375 210.577805 \nL 280.239205 210.577805 \nz\n\" style=\"fill:#ffc000;opacity:0.6;\"/>\n   </g>\n   <g id=\"patch_145\">\n    <path clip-path=\"url(#p8de859792b)\" d=\"M 284.04375 224.64 \nL 287.848295 224.64 \nL 287.848295 212.169752 \nL 284.04375 212.169752 \nz\n\" style=\"fill:#ffc000;opacity:0.6;\"/>\n   </g>\n   <g id=\"patch_146\">\n    <path clip-path=\"url(#p8de859792b)\" d=\"M 287.848295 224.64 \nL 291.652841 224.64 \nL 291.652841 212.965725 \nL 287.848295 212.965725 \nz\n\" style=\"fill:#ffc000;opacity:0.6;\"/>\n   </g>\n   <g id=\"patch_147\">\n    <path clip-path=\"url(#p8de859792b)\" d=\"M 291.652841 224.64 \nL 295.457386 224.64 \nL 295.457386 214.159685 \nL 291.652841 214.159685 \nz\n\" style=\"fill:#ffc000;opacity:0.6;\"/>\n   </g>\n   <g id=\"patch_148\">\n    <path clip-path=\"url(#p8de859792b)\" d=\"M 295.457386 224.64 \nL 299.261932 224.64 \nL 299.261932 211.771765 \nL 295.457386 211.771765 \nz\n\" style=\"fill:#ffc000;opacity:0.6;\"/>\n   </g>\n   <g id=\"patch_149\">\n    <path clip-path=\"url(#p8de859792b)\" d=\"M 299.261932 224.64 \nL 303.066477 224.64 \nL 303.066477 213.363712 \nL 299.261932 213.363712 \nz\n\" style=\"fill:#ffc000;opacity:0.6;\"/>\n   </g>\n   <g id=\"patch_150\">\n    <path clip-path=\"url(#p8de859792b)\" d=\"M 303.066477 224.64 \nL 306.871023 224.64 \nL 306.871023 212.700401 \nL 303.066477 212.700401 \nz\n\" style=\"fill:#ffc000;opacity:0.6;\"/>\n   </g>\n   <g id=\"patch_151\">\n    <path clip-path=\"url(#p8de859792b)\" d=\"M 306.871023 224.64 \nL 310.675568 224.64 \nL 310.675568 212.567739 \nL 306.871023 212.567739 \nz\n\" style=\"fill:#ffc000;opacity:0.6;\"/>\n   </g>\n   <g id=\"patch_152\">\n    <path clip-path=\"url(#p8de859792b)\" d=\"M 310.675568 224.64 \nL 314.480114 224.64 \nL 314.480114 213.894361 \nL 310.675568 213.894361 \nz\n\" style=\"fill:#ffc000;opacity:0.6;\"/>\n   </g>\n   <g id=\"patch_153\">\n    <path clip-path=\"url(#p8de859792b)\" d=\"M 314.480114 224.64 \nL 318.284659 224.64 \nL 318.284659 209.516508 \nL 314.480114 209.516508 \nz\n\" style=\"fill:#ffc000;opacity:0.6;\"/>\n   </g>\n   <g id=\"patch_154\">\n    <path clip-path=\"url(#p8de859792b)\" d=\"M 318.284659 224.64 \nL 322.089205 224.64 \nL 322.089205 209.383846 \nL 318.284659 209.383846 \nz\n\" style=\"fill:#ffc000;opacity:0.6;\"/>\n   </g>\n   <g id=\"patch_155\">\n    <path clip-path=\"url(#p8de859792b)\" d=\"M 322.089205 224.64 \nL 325.89375 224.64 \nL 325.89375 208.189886 \nL 322.089205 208.189886 \nz\n\" style=\"fill:#ffc000;opacity:0.6;\"/>\n   </g>\n   <g id=\"patch_156\">\n    <path clip-path=\"url(#p8de859792b)\" d=\"M 325.89375 224.64 \nL 329.698295 224.64 \nL 329.698295 207.26125 \nL 325.89375 207.26125 \nz\n\" style=\"fill:#ffc000;opacity:0.6;\"/>\n   </g>\n   <g id=\"patch_157\">\n    <path clip-path=\"url(#p8de859792b)\" d=\"M 329.698295 224.64 \nL 333.502841 224.64 \nL 333.502841 199.036193 \nL 329.698295 199.036193 \nz\n\" style=\"fill:#ffc000;opacity:0.6;\"/>\n   </g>\n   <g id=\"patch_158\">\n    <path clip-path=\"url(#p8de859792b)\" d=\"M 333.502841 224.64 \nL 337.307386 224.64 \nL 337.307386 206.332615 \nL 333.502841 206.332615 \nz\n\" style=\"fill:#ffc000;opacity:0.6;\"/>\n   </g>\n   <g id=\"patch_159\">\n    <path clip-path=\"url(#p8de859792b)\" d=\"M 337.307386 224.64 \nL 341.111932 224.64 \nL 341.111932 215.486307 \nL 337.307386 215.486307 \nz\n\" style=\"fill:#ffc000;opacity:0.6;\"/>\n   </g>\n   <g id=\"patch_160\">\n    <path clip-path=\"url(#p8de859792b)\" d=\"M 341.111932 224.64 \nL 344.916477 224.64 \nL 344.916477 216.945592 \nL 341.111932 216.945592 \nz\n\" style=\"fill:#ffc000;opacity:0.6;\"/>\n   </g>\n   <g id=\"patch_161\">\n    <path clip-path=\"url(#p8de859792b)\" d=\"M 344.916477 224.64 \nL 348.721023 224.64 \nL 348.721023 223.180716 \nL 344.916477 223.180716 \nz\n\" style=\"fill:#ffc000;opacity:0.6;\"/>\n   </g>\n   <g id=\"patch_162\">\n    <path clip-path=\"url(#p8de859792b)\" d=\"M 348.721023 224.64 \nL 352.525568 224.64 \nL 352.525568 53.77107 \nL 348.721023 53.77107 \nz\n\" style=\"fill:#ffc000;opacity:0.6;\"/>\n   </g>\n   <g id=\"patch_163\">\n    <path d=\"M 32.94375 224.64 \nL 32.94375 7.2 \n\" style=\"fill:none;stroke:#262626;stroke-linecap:square;stroke-linejoin:miter;stroke-width:1.25;\"/>\n   </g>\n   <g id=\"patch_164\">\n    <path d=\"M 367.74375 224.64 \nL 367.74375 7.2 \n\" style=\"fill:none;stroke:#262626;stroke-linecap:square;stroke-linejoin:miter;stroke-width:1.25;\"/>\n   </g>\n   <g id=\"patch_165\">\n    <path d=\"M 32.94375 224.64 \nL 367.74375 224.64 \n\" style=\"fill:none;stroke:#262626;stroke-linecap:square;stroke-linejoin:miter;stroke-width:1.25;\"/>\n   </g>\n   <g id=\"patch_166\">\n    <path d=\"M 32.94375 7.2 \nL 367.74375 7.2 \n\" style=\"fill:none;stroke:#262626;stroke-linecap:square;stroke-linejoin:miter;stroke-width:1.25;\"/>\n   </g>\n  </g>\n </g>\n <defs>\n  <clipPath id=\"p8de859792b\">\n   <rect height=\"217.44\" width=\"334.8\" x=\"32.94375\" y=\"7.2\"/>\n  </clipPath>\n </defs>\n</svg>\n",
      "image/png": "[encoded data removed]"
     },
     "metadata": {}
    }
   ],
   "metadata": {}
  },
  {
   "cell_type": "code",
   "execution_count": 48,
   "source": [
    "import json\n",
    "\n",
    "with open('/home/lpc/repos/NLGx/CogNLGv6/log/entdesc_cognlg/gpt2_sys1/gold.csv') as f:\n",
    "    ori_list = f.read().split('\\n')\n",
    "if ori_list[-1] == '':\n",
    "    ori_list = ori_list[:-1]\n",
    "ori_list = [json.loads(item) for item in ori_list]\n",
    "results = []\n",
    "for item in ori_list:\n",
    "    count = 0\n",
    "    for i in item:\n",
    "        count += len(i)\n",
    "    results.append(count / len(item))\n",
    "with open('./count_entities.txt', mode='w+') as f:\n",
    "    f.write('')\n",
    "with open('./count_entities.txt', mode='a+') as f:\n",
    "    for item in results:\n",
    "        f.write('{}\\n'.format(item))"
   ],
   "outputs": [],
   "metadata": {}
  },
  {
   "cell_type": "code",
   "execution_count": 50,
   "source": [
    "import numpy as np\n",
    "\n",
    "with open('/home/lpc/repos/NLGx/CogNLGv6/log/entdesc_cognlg/gpt2_sys1/bleu_and_count_entities.csv') as f:\n",
    "    ori_list = f.read().split('\\n')\n",
    "if ori_list[-1] == '':\n",
    "    ori_list = ori_list[1:-1]\n",
    "data = [item.split('\\t') for item in ori_list]\n",
    "results = {}\n",
    "for item in data:\n",
    "    if round(float(item[0]) * 10) not in results:\n",
    "        results[round(float(item[0]) * 10)] = []\n",
    "    else:\n",
    "        results[round(float(item[0]) * 10)].append(float(item[1]))\n",
    "for key in results:\n",
    "    print(key, np.mean(results[key]))"
   ],
   "outputs": [
    {
     "output_type": "stream",
     "name": "stdout",
     "text": [
      "5 8.006870370370372\n",
      "8 6.900778894472361\n",
      "6 7.782690355329951\n",
      "3 7.276144297905353\n",
      "4 7.547678495083369\n",
      "7 7.446745562130178\n",
      "9 6.178619565217391\n",
      "0 5.350909090909091\n",
      "10 4.5596024674434545\n",
      "2 5.851049868766404\n",
      "1 4.790967741935484\n"
     ]
    }
   ],
   "metadata": {}
  }
 ],
 "metadata": {
  "interpreter": {
   "hash": "1fc121e1f58d5cc7ca4b0c8e800bd256e062b465a223ed92df94e3da06e2786e"
  },
  "kernelspec": {
   "name": "python3",
   "display_name": "Python 3.8.10 64-bit ('CogQA': conda)"
  },
  "language_info": {
   "codemirror_mode": {
    "name": "ipython",
    "version": 3
   },
   "file_extension": ".py",
   "mimetype": "text/x-python",
   "name": "python",
   "nbconvert_exporter": "python",
   "pygments_lexer": "ipython3",
   "version": "3.8.10"
  },
  "orig_nbformat": 3
 },
 "nbformat": 4,
 "nbformat_minor": 2
}